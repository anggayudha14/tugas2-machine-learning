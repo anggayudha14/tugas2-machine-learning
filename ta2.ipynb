{
 "cells": [
  {
   "cell_type": "code",
   "execution_count": 1,
   "id": "f24b7808",
   "metadata": {},
   "outputs": [
    {
     "name": "stdout",
     "output_type": "stream",
     "text": [
      "--- 5 Baris Pertama ---\n",
      "   hour_of_day cash_type  money    coffee_name Time_of_Day Weekday Month_name  \\\n",
      "0           10      card   38.7          Latte     Morning     Fri        Mar   \n",
      "1           12      card   38.7  Hot Chocolate   Afternoon     Fri        Mar   \n",
      "2           12      card   38.7  Hot Chocolate   Afternoon     Fri        Mar   \n",
      "3           13      card   28.9      Americano   Afternoon     Fri        Mar   \n",
      "4           13      card   38.7          Latte   Afternoon     Fri        Mar   \n",
      "\n",
      "   Weekdaysort  Monthsort        Date             Time  \n",
      "0            5          3  2024-03-01  10:15:50.520000  \n",
      "1            5          3  2024-03-01  12:19:22.539000  \n",
      "2            5          3  2024-03-01  12:20:18.089000  \n",
      "3            5          3  2024-03-01  13:46:33.006000  \n",
      "4            5          3  2024-03-01  13:48:14.626000  \n",
      "\n",
      "--- Nama Kolom ---\n",
      "Index(['hour_of_day', 'cash_type', 'money', 'coffee_name', 'Time_of_Day',\n",
      "       'Weekday', 'Month_name', 'Weekdaysort', 'Monthsort', 'Date', 'Time'],\n",
      "      dtype='object')\n"
     ]
    }
   ],
   "source": [
    "import pandas as pd\n",
    "\n",
    "# Ganti dengan nama file dataset setelah di-download\n",
    "df = pd.read_csv(\"Coffe_sales.csv\")  # contoh nama file\n",
    "\n",
    "print(\"--- 5 Baris Pertama ---\")\n",
    "print(df.head())\n",
    "\n",
    "print(\"\\n--- Nama Kolom ---\")\n",
    "print(df.columns)"
   ]
  }
 ],
 "metadata": {
  "kernelspec": {
   "display_name": "venv",
   "language": "python",
   "name": "python3"
  },
  "language_info": {
   "codemirror_mode": {
    "name": "ipython",
    "version": 3
   },
   "file_extension": ".py",
   "mimetype": "text/x-python",
   "name": "python",
   "nbconvert_exporter": "python",
   "pygments_lexer": "ipython3",
   "version": "3.11.8"
  }
 },
 "nbformat": 4,
 "nbformat_minor": 5
}
